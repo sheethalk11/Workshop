{
 "cells": [
  {
   "cell_type": "code",
   "execution_count": 1,
   "metadata": {},
   "outputs": [
    {
     "name": "stdout",
     "output_type": "stream",
     "text": [
      "sheethal45\n"
     ]
    }
   ],
   "source": [
    "a=input(\"sheethal\")"
   ]
  },
  {
   "cell_type": "code",
   "execution_count": 9,
   "metadata": {},
   "outputs": [
    {
     "name": "stdout",
     "output_type": "stream",
     "text": [
      "Enter a number5\n",
      "True\n",
      "the type of a is <class 'str'>\n",
      "the type of b is <class 'bool'>\n",
      "the type of c is <class 'int'>\n",
      "the type of e is 5\n"
     ]
    }
   ],
   "source": [
    "a=\"HI\"\n",
    "b=True\n",
    "c=20\n",
    "d=None\n",
    "e=int(input(\"Enter a number\"))\n",
    "if(e==5):\n",
    "    \n",
    "    print(\"True\")\n",
    "else:\n",
    "    print(\"False\")\n",
    "print(\"the type of a is\",type(a))\n",
    "print(\"the type of b is\",type(b))\n",
    "print(\"the type of c is\",type(c))\n",
    "print(\"the type of e is\",e)"
   ]
  },
  {
   "cell_type": "code",
   "execution_count": 18,
   "metadata": {},
   "outputs": [
    {
     "name": "stdout",
     "output_type": "stream",
     "text": [
      "Enter the first number4\n",
      "Enter the second number2\n",
      "Enter the operator/\n",
      "The division of 4 and 2 is 2.0\n"
     ]
    }
   ],
   "source": [
    "a=int(input(\"Enter the first number\"))\n",
    "b=int(input(\"Enter the second number\"))\n",
    "c=input(\"Enter the operator\")\n",
    "if c=='+':\n",
    "    print(\"The sum is\",a+b)\n",
    "elif c=='-':\n",
    "    print(\"The difference is\",a-b)\n",
    "elif c=='*':\n",
    "    print(f\"The product of {a} and {b} is {a*b}\")\n",
    "elif c=='/':\n",
    "    print(\"The division of\", a, \"and\",b, \"is\" ,a/b)\n",
    "elif c=='%':\n",
    "    print(\"The modulus is\",a%b)\n",
    "else:\n",
    "    print(\"Invalid operator\")"
   ]
  },
  {
   "cell_type": "code",
   "execution_count": null,
   "metadata": {
    "collapsed": true
   },
   "outputs": [],
   "source": []
  },
  {
   "cell_type": "code",
   "execution_count": null,
   "metadata": {
    "collapsed": true
   },
   "outputs": [],
   "source": []
  }
 ],
 "metadata": {
  "kernelspec": {
   "display_name": "Python 3",
   "language": "python",
   "name": "python3"
  },
  "language_info": {
   "codemirror_mode": {
    "name": "ipython",
    "version": 3
   },
   "file_extension": ".py",
   "mimetype": "text/x-python",
   "name": "python",
   "nbconvert_exporter": "python",
   "pygments_lexer": "ipython3",
   "version": "3.6.3"
  }
 },
 "nbformat": 4,
 "nbformat_minor": 2
}
